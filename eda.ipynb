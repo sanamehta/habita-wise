{
 "cells": [
  {
   "cell_type": "code",
   "execution_count": null,
   "metadata": {},
   "outputs": [],
   "source": [
    "import numpy as np\n",
    "import pandas as pd\n",
    "import seaborn as sns\n",
    "import mat plotlib.pyplot as plt\n"
   ]
  },
  {
   "cell_type": "code",
   "execution_count": 12,
   "metadata": {},
   "outputs": [
    {
     "data": {
      "text/plain": [
       "(       Id Property_Type  Property_Area  Number_of_Windows  Number_of_Doors  \\\n",
       " 0  0x21e3     Apartment            106                NaN                1   \n",
       " 1  0x68d4     Apartment            733                2.0                2   \n",
       " 2  0x7d81     Apartment            737                4.0                2   \n",
       " 3  0x7a57     Apartment            900                3.0                2   \n",
       " 4  0x9409      Bungalow           2238               14.0                6   \n",
       " \n",
       "         Furnishing  Frequency_of_Powercuts Power_Backup  \\\n",
       " 0   Semi_Furnished                     0.0           No   \n",
       " 1      Unfurnished                     1.0           No   \n",
       " 2  Fully Furnished                     0.0           No   \n",
       " 3      Unfurnished                     2.0          Yes   \n",
       " 4  Fully Furnished                     0.0           No   \n",
       " \n",
       "               Water_Supply  Traffic_Density_Score              Crime_Rate  \\\n",
       " 0  Once in a day - Morning                   5.89  Slightly below average   \n",
       " 1  Once in a day - Evening                   4.37      Well below average   \n",
       " 2  Once in a day - Morning                   7.45  Slightly below average   \n",
       " 3  Once in a day - Morning                   6.16      Well above average   \n",
       " 4                 All time                   5.46      Well below average   \n",
       " \n",
       "   Dust_and_Noise  Air_Quality_Index  Neighborhood_Review  Habitability_score  \n",
       " 0         Medium                 90                 3.86               71.98  \n",
       " 1         Medium                 96                 3.55               71.20  \n",
       " 2         Medium                121                 3.81               71.39  \n",
       " 3         Medium                100                 1.34               31.46  \n",
       " 4         Medium                116                 4.77               93.70  ,\n",
       "        Id       Property_Type  Property_Area  Number_of_Windows  \\\n",
       " 0  0x6808  Single-family home           1521                5.0   \n",
       " 1  0x6a98  Single-family home           2233                2.0   \n",
       " 2  0xacc0           Apartment            986                1.0   \n",
       " 3  0x8225  Single-family home           1625                2.0   \n",
       " 4  0xaee8  Single-family home           1166                2.0   \n",
       " \n",
       "    Number_of_Doors       Furnishing  Frequency_of_Powercuts Power_Backup  \\\n",
       " 0                1      Unfurnished                     0.0           No   \n",
       " 1                1   Semi_Furnished                     0.0           No   \n",
       " 2                1      Unfurnished                     0.0           No   \n",
       " 3                1   Semi_Furnished                     0.0           No   \n",
       " 4                2  Fully Furnished                     0.0           No   \n",
       " \n",
       "               Water_Supply  Traffic_Density_Score              Crime_Rate  \\\n",
       " 0                 All time                   7.61      Well below average   \n",
       " 1  Once in a day - Morning                   5.28      Well below average   \n",
       " 2                 All time                   7.72      Well below average   \n",
       " 3  Once in a day - Evening                   6.19      Well below average   \n",
       " 4  Once in a day - Evening                   5.84  Slightly below average   \n",
       " \n",
       "   Dust_and_Noise  Air_Quality_Index  Neighborhood_Review  \n",
       " 0         Medium              156.0                 4.71  \n",
       " 1         Medium               82.0                 4.50  \n",
       " 2         Medium               91.0                 4.79  \n",
       " 3         Medium              159.0                 4.09  \n",
       " 4         Medium               82.0                 3.56  )"
      ]
     },
     "execution_count": 12,
     "metadata": {},
     "output_type": "execute_result"
    }
   ],
   "source": [
    "\n",
    "import pandas as pd\n",
    "\n",
    "# Load the training and test data files\n",
    "train_df = pd.read_csv('/Users/sana/Documents/GitHub/habita-wise/habitawise_dataset/train (1).csv')\n",
    "test_df = pd.read_csv('/Users/sana/Documents/GitHub/habita-wise/habitawise_dataset/test (1).csv')\n",
    "\n",
    "\n",
    "\n",
    "# Display the first few rows of each dataframe to understand their structure and contents\n",
    "train_df.head(5), test_df.head(5)\n"
   ]
  },
  {
   "cell_type": "code",
   "execution_count": 13,
   "metadata": {},
   "outputs": [
    {
     "name": "stdout",
     "output_type": "stream",
     "text": [
      "(31599, 15)\n",
      "(7900, 14)\n"
     ]
    }
   ],
   "source": [
    "print(train_df.shape)\n",
    "print(test_df.shape)\n"
   ]
  },
  {
   "cell_type": "code",
   "execution_count": 15,
   "metadata": {},
   "outputs": [
    {
     "data": {
      "text/plain": [
       "(            Id Property_Type  Property_Area  Number_of_Windows  \\\n",
       " count    31599         31599   31599.000000       30266.000000   \n",
       " unique   31599             6            NaN                NaN   \n",
       " top     0x21e3     Apartment            NaN                NaN   \n",
       " freq         1         11673            NaN                NaN   \n",
       " mean       NaN           NaN    1392.563784           3.926254   \n",
       " std        NaN           NaN    1950.693832           2.694485   \n",
       " min        NaN           NaN     100.000000           0.000000   \n",
       " 25%        NaN           NaN     495.000000           2.000000   \n",
       " 50%        NaN           NaN     932.000000           4.000000   \n",
       " 75%        NaN           NaN    1767.000000           5.000000   \n",
       " max        NaN           NaN   28064.000000          15.000000   \n",
       " \n",
       "         Number_of_Doors      Furnishing  Frequency_of_Powercuts Power_Backup  \\\n",
       " count      31599.000000           30771            30490.000000        31599   \n",
       " unique              NaN               3                     NaN            3   \n",
       " top                 NaN  Semi_Furnished                     NaN           No   \n",
       " freq                NaN           16314                     NaN        23796   \n",
       " mean           2.333745             NaN                0.486684          NaN   \n",
       " std            1.178326             NaN                0.755209          NaN   \n",
       " min            1.000000             NaN                0.000000          NaN   \n",
       " 25%            1.000000             NaN                0.000000          NaN   \n",
       " 50%            2.000000             NaN                0.000000          NaN   \n",
       " 75%            3.000000             NaN                1.000000          NaN   \n",
       " max            6.000000             NaN                3.000000          NaN   \n",
       " \n",
       "        Water_Supply  Traffic_Density_Score          Crime_Rate Dust_and_Noise  \\\n",
       " count         31599           31599.000000               30970          30600   \n",
       " unique            5                    NaN                   4              3   \n",
       " top        All time                    NaN  Well below average         Medium   \n",
       " freq          15585                    NaN               15533          26376   \n",
       " mean            NaN               6.356843                 NaN            NaN   \n",
       " std             NaN               1.219395                 NaN            NaN   \n",
       " min             NaN               0.000000                 NaN            NaN   \n",
       " 25%             NaN               5.610000                 NaN            NaN   \n",
       " 50%             NaN               6.470000                 NaN            NaN   \n",
       " 75%             NaN               7.220000                 NaN            NaN   \n",
       " max             NaN               9.910000                 NaN            NaN   \n",
       " \n",
       "         Air_Quality_Index  Neighborhood_Review  Habitability_score  \n",
       " count        31599.000000         31599.000000         31599.00000  \n",
       " unique                NaN                  NaN                 NaN  \n",
       " top                   NaN                  NaN                 NaN  \n",
       " freq                  NaN                  NaN                 NaN  \n",
       " mean           121.378588             3.733128            73.43742  \n",
       " std             62.071787             0.798300            14.14674  \n",
       " min              0.000000             0.240000             7.28000  \n",
       " 25%             95.000000             3.220000            69.64000  \n",
       " 50%            113.000000             3.850000            75.75000  \n",
       " 75%            140.000000             4.240000            82.20000  \n",
       " max           1044.000000             5.000000           100.00000  ,\n",
       " Id                           0\n",
       " Property_Type                0\n",
       " Property_Area                0\n",
       " Number_of_Windows         1333\n",
       " Number_of_Doors              0\n",
       " Furnishing                 828\n",
       " Frequency_of_Powercuts    1109\n",
       " Power_Backup                 0\n",
       " Water_Supply                 0\n",
       " Traffic_Density_Score        0\n",
       " Crime_Rate                 629\n",
       " Dust_and_Noise             999\n",
       " Air_Quality_Index            0\n",
       " Neighborhood_Review          0\n",
       " Habitability_score           0\n",
       " dtype: int64,\n",
       " {'Id': 31599,\n",
       "  'Property_Type': 6,\n",
       "  'Furnishing': 3,\n",
       "  'Power_Backup': 3,\n",
       "  'Water_Supply': 5,\n",
       "  'Crime_Rate': 4,\n",
       "  'Dust_and_Noise': 3})"
      ]
     },
     "execution_count": 15,
     "metadata": {},
     "output_type": "execute_result"
    }
   ],
   "source": [
    "# Summary statistics and missing values check for the training data\n",
    "train_summary = train_df.describe(include='all')\n",
    "train_missing_values = train_df.isnull().sum()\n",
    "\n",
    "# Check for unique values in categorical columns\n",
    "categorical_columns = train_df.select_dtypes(include='object').columns\n",
    "unique_values_categorical = {col: train_df[col].nunique() for col in categorical_columns}\n",
    "\n",
    "# Show results for summary, missing values, and unique categorical values\n",
    "train_summary, train_missing_values, unique_values_categorical\n"
   ]
  },
  {
   "attachments": {},
   "cell_type": "markdown",
   "metadata": {},
   "source": [
    "**Missing Values:**\n",
    "\n",
    "- There are some missing values in critical columns:\n",
    "- Number_of_Windows has 1,333 missing values.\n",
    "- Furnishing has 828 missing values.\n",
    "- Frequency_of_Powercuts has 1,109 missing values.\n",
    "- Crime_Rate has 629 missing values.\n",
    "- Dust_and_Noise has 999 missing values.\n",
    "\n",
    "\n",
    "**Numerical Features:**\n",
    "\n",
    "- The Property_Area ranges widely from 100 to 28,064 square feet, with an average around 1,393.\n",
    "- Air_Quality_Index varies from 0 to 1,044, suggesting that some locations experience extreme air quality issues.\n",
    "- Target Variable (Habitability_Score):\n",
    "\n",
    "- The habitability score has a broad range, from 7.28 to 100, with an average of around 73.4.\n",
    "\n",
    "\n",
    "**Categorical Features:**\n",
    "\n",
    "- Property_Type has six unique values.\n",
    "- Furnishing has three categories (Unfurnished, Semi_Furnished, Fully Furnished).\n",
    "- Power_Backup is binary (Yes/No).\n",
    "- Water_Supply has five categories, while Crime_Rate has four and - Dust_and_Noise has three.\n"
   ]
  },
  {
   "attachments": {},
   "cell_type": "markdown",
   "metadata": {},
   "source": [
    "## Data Cleaning"
   ]
  },
  {
   "cell_type": "code",
   "execution_count": 25,
   "metadata": {},
   "outputs": [
    {
     "name": "stdout",
     "output_type": "stream",
     "text": [
      "Collecting scikit-learn\n",
      "  Downloading scikit_learn-1.5.2-cp311-cp311-macosx_12_0_arm64.whl.metadata (13 kB)\n",
      "Requirement already satisfied: numpy>=1.19.5 in /Library/Frameworks/Python.framework/Versions/3.11/lib/python3.11/site-packages (from scikit-learn) (1.26.4)\n",
      "Requirement already satisfied: scipy>=1.6.0 in /Library/Frameworks/Python.framework/Versions/3.11/lib/python3.11/site-packages (from scikit-learn) (1.12.0)\n",
      "Collecting joblib>=1.2.0 (from scikit-learn)\n",
      "  Downloading joblib-1.4.2-py3-none-any.whl.metadata (5.4 kB)\n",
      "Collecting threadpoolctl>=3.1.0 (from scikit-learn)\n",
      "  Downloading threadpoolctl-3.5.0-py3-none-any.whl.metadata (13 kB)\n",
      "Downloading scikit_learn-1.5.2-cp311-cp311-macosx_12_0_arm64.whl (11.0 MB)\n",
      "\u001b[2K   \u001b[90m━━━━━━━━━━━━━━━━━━━━━━━━━━━━━━━━━━━━━━━━\u001b[0m \u001b[32m11.0/11.0 MB\u001b[0m \u001b[31m11.9 MB/s\u001b[0m eta \u001b[36m0:00:00\u001b[0ma \u001b[36m0:00:01\u001b[0m\n",
      "\u001b[?25hDownloading joblib-1.4.2-py3-none-any.whl (301 kB)\n",
      "Downloading threadpoolctl-3.5.0-py3-none-any.whl (18 kB)\n",
      "Installing collected packages: threadpoolctl, joblib, scikit-learn\n",
      "Successfully installed joblib-1.4.2 scikit-learn-1.5.2 threadpoolctl-3.5.0\n",
      "\n",
      "\u001b[1m[\u001b[0m\u001b[34;49mnotice\u001b[0m\u001b[1;39;49m]\u001b[0m\u001b[39;49m A new release of pip is available: \u001b[0m\u001b[31;49m24.2\u001b[0m\u001b[39;49m -> \u001b[0m\u001b[32;49m24.3.1\u001b[0m\n",
      "\u001b[1m[\u001b[0m\u001b[34;49mnotice\u001b[0m\u001b[1;39;49m]\u001b[0m\u001b[39;49m To update, run: \u001b[0m\u001b[32;49mpython3 -m pip install --upgrade pip\u001b[0m\n",
      "Note: you may need to restart the kernel to use updated packages.\n"
     ]
    }
   ],
   "source": [
    "pip install scikit-learn"
   ]
  },
  {
   "cell_type": "code",
   "execution_count": 26,
   "metadata": {},
   "outputs": [
    {
     "data": {
      "text/plain": [
       "Id                        0\n",
       "Property_Type             0\n",
       "Property_Area             0\n",
       "Number_of_Windows         0\n",
       "Number_of_Doors           0\n",
       "Furnishing                0\n",
       "Frequency_of_Powercuts    0\n",
       "Power_Backup              0\n",
       "Water_Supply              0\n",
       "Traffic_Density_Score     0\n",
       "Crime_Rate                0\n",
       "Dust_and_Noise            0\n",
       "Air_Quality_Index         0\n",
       "Neighborhood_Review       0\n",
       "Habitability_score        0\n",
       "dtype: int64"
      ]
     },
     "execution_count": 26,
     "metadata": {},
     "output_type": "execute_result"
    }
   ],
   "source": [
    "\n",
    "from sklearn.impute import SimpleImputer\n",
    "\n",
    "# Copy of the dataframe for cleaning\n",
    "cleaned_train_df = train_df.copy()\n",
    "\n",
    "# Impute missing values in numerical columns with the median\n",
    "numerical_columns = ['Number_of_Windows', 'Frequency_of_Powercuts']\n",
    "numerical_imputer = SimpleImputer(strategy='median')\n",
    "cleaned_train_df[numerical_columns] = numerical_imputer.fit_transform(cleaned_train_df[numerical_columns])\n",
    "\n",
    "# Impute missing values in categorical columns with the most frequent value\n",
    "categorical_columns = ['Furnishing', 'Crime_Rate', 'Dust_and_Noise']\n",
    "categorical_imputer = SimpleImputer(strategy='most_frequent')\n",
    "cleaned_train_df[categorical_columns] = categorical_imputer.fit_transform(cleaned_train_df[categorical_columns])\n",
    "\n",
    "# Check for remaining missing values after imputation\n",
    "remaining_missing_values = cleaned_train_df.isnull().sum()\n",
    "remaining_missing_values\n"
   ]
  },
  {
   "attachments": {},
   "cell_type": "markdown",
   "metadata": {},
   "source": [
    "All missing values have been successfully imputed:\n",
    "\n",
    "Numerical columns like Number_of_Windows and Frequency_of_Powercuts were filled with the median.\n",
    "Categorical columns (Furnishing, Crime_Rate, and Dust_and_Noise) were filled with the most frequent category."
   ]
  },
  {
   "attachments": {},
   "cell_type": "markdown",
   "metadata": {},
   "source": [
    "## Feature Encoding "
   ]
  },
  {
   "cell_type": "code",
   "execution_count": 27,
   "metadata": {},
   "outputs": [
    {
     "data": {
      "text/html": [
       "<div>\n",
       "<style scoped>\n",
       "    .dataframe tbody tr th:only-of-type {\n",
       "        vertical-align: middle;\n",
       "    }\n",
       "\n",
       "    .dataframe tbody tr th {\n",
       "        vertical-align: top;\n",
       "    }\n",
       "\n",
       "    .dataframe thead th {\n",
       "        text-align: right;\n",
       "    }\n",
       "</style>\n",
       "<table border=\"1\" class=\"dataframe\">\n",
       "  <thead>\n",
       "    <tr style=\"text-align: right;\">\n",
       "      <th></th>\n",
       "      <th>Id</th>\n",
       "      <th>Property_Type</th>\n",
       "      <th>Property_Area</th>\n",
       "      <th>Number_of_Windows</th>\n",
       "      <th>Number_of_Doors</th>\n",
       "      <th>Furnishing</th>\n",
       "      <th>Frequency_of_Powercuts</th>\n",
       "      <th>Power_Backup</th>\n",
       "      <th>Water_Supply</th>\n",
       "      <th>Traffic_Density_Score</th>\n",
       "      <th>Crime_Rate</th>\n",
       "      <th>Dust_and_Noise</th>\n",
       "      <th>Air_Quality_Index</th>\n",
       "      <th>Neighborhood_Review</th>\n",
       "      <th>Habitability_score</th>\n",
       "    </tr>\n",
       "  </thead>\n",
       "  <tbody>\n",
       "    <tr>\n",
       "      <th>0</th>\n",
       "      <td>0x21e3</td>\n",
       "      <td>1</td>\n",
       "      <td>106</td>\n",
       "      <td>4.0</td>\n",
       "      <td>1</td>\n",
       "      <td>1</td>\n",
       "      <td>0.0</td>\n",
       "      <td>1</td>\n",
       "      <td>3</td>\n",
       "      <td>5.89</td>\n",
       "      <td>1</td>\n",
       "      <td>2</td>\n",
       "      <td>90</td>\n",
       "      <td>3.86</td>\n",
       "      <td>71.98</td>\n",
       "    </tr>\n",
       "    <tr>\n",
       "      <th>1</th>\n",
       "      <td>0x68d4</td>\n",
       "      <td>1</td>\n",
       "      <td>733</td>\n",
       "      <td>2.0</td>\n",
       "      <td>2</td>\n",
       "      <td>2</td>\n",
       "      <td>1.0</td>\n",
       "      <td>1</td>\n",
       "      <td>2</td>\n",
       "      <td>4.37</td>\n",
       "      <td>3</td>\n",
       "      <td>2</td>\n",
       "      <td>96</td>\n",
       "      <td>3.55</td>\n",
       "      <td>71.20</td>\n",
       "    </tr>\n",
       "    <tr>\n",
       "      <th>2</th>\n",
       "      <td>0x7d81</td>\n",
       "      <td>1</td>\n",
       "      <td>737</td>\n",
       "      <td>4.0</td>\n",
       "      <td>2</td>\n",
       "      <td>0</td>\n",
       "      <td>0.0</td>\n",
       "      <td>1</td>\n",
       "      <td>3</td>\n",
       "      <td>7.45</td>\n",
       "      <td>1</td>\n",
       "      <td>2</td>\n",
       "      <td>121</td>\n",
       "      <td>3.81</td>\n",
       "      <td>71.39</td>\n",
       "    </tr>\n",
       "    <tr>\n",
       "      <th>3</th>\n",
       "      <td>0x7a57</td>\n",
       "      <td>1</td>\n",
       "      <td>900</td>\n",
       "      <td>3.0</td>\n",
       "      <td>2</td>\n",
       "      <td>2</td>\n",
       "      <td>2.0</td>\n",
       "      <td>2</td>\n",
       "      <td>3</td>\n",
       "      <td>6.16</td>\n",
       "      <td>2</td>\n",
       "      <td>2</td>\n",
       "      <td>100</td>\n",
       "      <td>1.34</td>\n",
       "      <td>31.46</td>\n",
       "    </tr>\n",
       "    <tr>\n",
       "      <th>4</th>\n",
       "      <td>0x9409</td>\n",
       "      <td>2</td>\n",
       "      <td>2238</td>\n",
       "      <td>14.0</td>\n",
       "      <td>6</td>\n",
       "      <td>0</td>\n",
       "      <td>0.0</td>\n",
       "      <td>1</td>\n",
       "      <td>0</td>\n",
       "      <td>5.46</td>\n",
       "      <td>3</td>\n",
       "      <td>2</td>\n",
       "      <td>116</td>\n",
       "      <td>4.77</td>\n",
       "      <td>93.70</td>\n",
       "    </tr>\n",
       "  </tbody>\n",
       "</table>\n",
       "</div>"
      ],
      "text/plain": [
       "       Id  Property_Type  Property_Area  Number_of_Windows  Number_of_Doors  \\\n",
       "0  0x21e3              1            106                4.0                1   \n",
       "1  0x68d4              1            733                2.0                2   \n",
       "2  0x7d81              1            737                4.0                2   \n",
       "3  0x7a57              1            900                3.0                2   \n",
       "4  0x9409              2           2238               14.0                6   \n",
       "\n",
       "   Furnishing  Frequency_of_Powercuts  Power_Backup  Water_Supply  \\\n",
       "0           1                     0.0             1             3   \n",
       "1           2                     1.0             1             2   \n",
       "2           0                     0.0             1             3   \n",
       "3           2                     2.0             2             3   \n",
       "4           0                     0.0             1             0   \n",
       "\n",
       "   Traffic_Density_Score  Crime_Rate  Dust_and_Noise  Air_Quality_Index  \\\n",
       "0                   5.89           1               2                 90   \n",
       "1                   4.37           3               2                 96   \n",
       "2                   7.45           1               2                121   \n",
       "3                   6.16           2               2                100   \n",
       "4                   5.46           3               2                116   \n",
       "\n",
       "   Neighborhood_Review  Habitability_score  \n",
       "0                 3.86               71.98  \n",
       "1                 3.55               71.20  \n",
       "2                 3.81               71.39  \n",
       "3                 1.34               31.46  \n",
       "4                 4.77               93.70  "
      ]
     },
     "execution_count": 27,
     "metadata": {},
     "output_type": "execute_result"
    }
   ],
   "source": [
    "from sklearn.preprocessing import LabelEncoder\n",
    "\n",
    "# Copy of the cleaned dataframe for encoding\n",
    "encoded_train_df = cleaned_train_df.copy()\n",
    "\n",
    "# Encoding categorical variables with label encoding for simplicity (since there are few unique categories per feature)\n",
    "label_encoders = {}\n",
    "categorical_features = ['Property_Type', 'Furnishing', 'Power_Backup', 'Water_Supply', 'Crime_Rate', 'Dust_and_Noise']\n",
    "\n",
    "# Apply label encoding to each categorical feature and store the encoders for potential reverse transformation\n",
    "for feature in categorical_features:\n",
    "    le = LabelEncoder()\n",
    "    encoded_train_df[feature] = le.fit_transform(encoded_train_df[feature])\n",
    "    label_encoders[feature] = le\n",
    "\n",
    "# Display the first few rows to show encoded categorical variables\n",
    "encoded_train_df.head()\n"
   ]
  },
  {
   "attachments": {},
   "cell_type": "markdown",
   "metadata": {},
   "source": [
    "The categorical features have been successfully encoded with label encoding, transforming each category into a unique integer. This approach is suitable here due to the limited number of unique values per feature"
   ]
  },
  {
   "attachments": {},
   "cell_type": "markdown",
   "metadata": {},
   "source": [
    "### Feature Scaling"
   ]
  },
  {
   "attachments": {},
   "cell_type": "markdown",
   "metadata": {},
   "source": [
    "We will now do feature scaling, the numerical features have been scaled using standardization (mean of 0 and standard deviation of 1), making them suitable for most machine learning models. This transformation ensures that each numerical feature contributes proportionately."
   ]
  },
  {
   "cell_type": "code",
   "execution_count": 28,
   "metadata": {},
   "outputs": [
    {
     "data": {
      "text/html": [
       "<div>\n",
       "<style scoped>\n",
       "    .dataframe tbody tr th:only-of-type {\n",
       "        vertical-align: middle;\n",
       "    }\n",
       "\n",
       "    .dataframe tbody tr th {\n",
       "        vertical-align: top;\n",
       "    }\n",
       "\n",
       "    .dataframe thead th {\n",
       "        text-align: right;\n",
       "    }\n",
       "</style>\n",
       "<table border=\"1\" class=\"dataframe\">\n",
       "  <thead>\n",
       "    <tr style=\"text-align: right;\">\n",
       "      <th></th>\n",
       "      <th>Id</th>\n",
       "      <th>Property_Type</th>\n",
       "      <th>Property_Area</th>\n",
       "      <th>Number_of_Windows</th>\n",
       "      <th>Number_of_Doors</th>\n",
       "      <th>Furnishing</th>\n",
       "      <th>Frequency_of_Powercuts</th>\n",
       "      <th>Power_Backup</th>\n",
       "      <th>Water_Supply</th>\n",
       "      <th>Traffic_Density_Score</th>\n",
       "      <th>Crime_Rate</th>\n",
       "      <th>Dust_and_Noise</th>\n",
       "      <th>Air_Quality_Index</th>\n",
       "      <th>Neighborhood_Review</th>\n",
       "      <th>Habitability_score</th>\n",
       "    </tr>\n",
       "  </thead>\n",
       "  <tbody>\n",
       "    <tr>\n",
       "      <th>0</th>\n",
       "      <td>0x21e3</td>\n",
       "      <td>1</td>\n",
       "      <td>-0.659552</td>\n",
       "      <td>0.026786</td>\n",
       "      <td>-1.131916</td>\n",
       "      <td>1</td>\n",
       "      <td>-0.628474</td>\n",
       "      <td>1</td>\n",
       "      <td>3</td>\n",
       "      <td>-0.382854</td>\n",
       "      <td>1</td>\n",
       "      <td>2</td>\n",
       "      <td>-0.505529</td>\n",
       "      <td>0.158931</td>\n",
       "      <td>71.98</td>\n",
       "    </tr>\n",
       "    <tr>\n",
       "      <th>1</th>\n",
       "      <td>0x68d4</td>\n",
       "      <td>1</td>\n",
       "      <td>-0.338123</td>\n",
       "      <td>-0.731641</td>\n",
       "      <td>-0.283241</td>\n",
       "      <td>2</td>\n",
       "      <td>0.709834</td>\n",
       "      <td>1</td>\n",
       "      <td>2</td>\n",
       "      <td>-1.629394</td>\n",
       "      <td>3</td>\n",
       "      <td>2</td>\n",
       "      <td>-0.408865</td>\n",
       "      <td>-0.229401</td>\n",
       "      <td>71.20</td>\n",
       "    </tr>\n",
       "    <tr>\n",
       "      <th>2</th>\n",
       "      <td>0x7d81</td>\n",
       "      <td>1</td>\n",
       "      <td>-0.336072</td>\n",
       "      <td>0.026786</td>\n",
       "      <td>-0.283241</td>\n",
       "      <td>0</td>\n",
       "      <td>-0.628474</td>\n",
       "      <td>1</td>\n",
       "      <td>3</td>\n",
       "      <td>0.896489</td>\n",
       "      <td>1</td>\n",
       "      <td>2</td>\n",
       "      <td>-0.006099</td>\n",
       "      <td>0.096297</td>\n",
       "      <td>71.39</td>\n",
       "    </tr>\n",
       "    <tr>\n",
       "      <th>3</th>\n",
       "      <td>0x7a57</td>\n",
       "      <td>1</td>\n",
       "      <td>-0.252511</td>\n",
       "      <td>-0.352428</td>\n",
       "      <td>-0.283241</td>\n",
       "      <td>2</td>\n",
       "      <td>2.048141</td>\n",
       "      <td>2</td>\n",
       "      <td>3</td>\n",
       "      <td>-0.161430</td>\n",
       "      <td>2</td>\n",
       "      <td>2</td>\n",
       "      <td>-0.344423</td>\n",
       "      <td>-2.997826</td>\n",
       "      <td>31.46</td>\n",
       "    </tr>\n",
       "    <tr>\n",
       "      <th>4</th>\n",
       "      <td>0x9409</td>\n",
       "      <td>2</td>\n",
       "      <td>0.433410</td>\n",
       "      <td>3.818920</td>\n",
       "      <td>3.111459</td>\n",
       "      <td>0</td>\n",
       "      <td>-0.628474</td>\n",
       "      <td>1</td>\n",
       "      <td>0</td>\n",
       "      <td>-0.735494</td>\n",
       "      <td>3</td>\n",
       "      <td>2</td>\n",
       "      <td>-0.086652</td>\n",
       "      <td>1.298870</td>\n",
       "      <td>93.70</td>\n",
       "    </tr>\n",
       "  </tbody>\n",
       "</table>\n",
       "</div>"
      ],
      "text/plain": [
       "       Id  Property_Type  Property_Area  Number_of_Windows  Number_of_Doors  \\\n",
       "0  0x21e3              1      -0.659552           0.026786        -1.131916   \n",
       "1  0x68d4              1      -0.338123          -0.731641        -0.283241   \n",
       "2  0x7d81              1      -0.336072           0.026786        -0.283241   \n",
       "3  0x7a57              1      -0.252511          -0.352428        -0.283241   \n",
       "4  0x9409              2       0.433410           3.818920         3.111459   \n",
       "\n",
       "   Furnishing  Frequency_of_Powercuts  Power_Backup  Water_Supply  \\\n",
       "0           1               -0.628474             1             3   \n",
       "1           2                0.709834             1             2   \n",
       "2           0               -0.628474             1             3   \n",
       "3           2                2.048141             2             3   \n",
       "4           0               -0.628474             1             0   \n",
       "\n",
       "   Traffic_Density_Score  Crime_Rate  Dust_and_Noise  Air_Quality_Index  \\\n",
       "0              -0.382854           1               2          -0.505529   \n",
       "1              -1.629394           3               2          -0.408865   \n",
       "2               0.896489           1               2          -0.006099   \n",
       "3              -0.161430           2               2          -0.344423   \n",
       "4              -0.735494           3               2          -0.086652   \n",
       "\n",
       "   Neighborhood_Review  Habitability_score  \n",
       "0             0.158931               71.98  \n",
       "1            -0.229401               71.20  \n",
       "2             0.096297               71.39  \n",
       "3            -2.997826               31.46  \n",
       "4             1.298870               93.70  "
      ]
     },
     "execution_count": 28,
     "metadata": {},
     "output_type": "execute_result"
    }
   ],
   "source": [
    "from sklearn.preprocessing import StandardScaler\n",
    "\n",
    "# Define numerical features for scaling, excluding the target variable and ID\n",
    "numerical_features = [\n",
    "    'Property_Area', 'Number_of_Windows', 'Number_of_Doors', \n",
    "    'Frequency_of_Powercuts', 'Traffic_Density_Score', \n",
    "    'Air_Quality_Index', 'Neighborhood_Review'\n",
    "]\n",
    "\n",
    "# Apply StandardScaler to the numerical features for normalization\n",
    "scaler = StandardScaler()\n",
    "encoded_train_df[numerical_features] = scaler.fit_transform(encoded_train_df[numerical_features])\n",
    "\n",
    "# Display the first few rows to show scaled numerical features\n",
    "encoded_train_df.head()\n"
   ]
  },
  {
   "attachments": {},
   "cell_type": "markdown",
   "metadata": {},
   "source": [
    "## Correlation for feature selction "
   ]
  },
  {
   "attachments": {},
   "cell_type": "markdown",
   "metadata": {},
   "source": []
  },
  {
   "cell_type": "code",
   "execution_count": 30,
   "metadata": {},
   "outputs": [
    {
     "data": {
      "image/png": "[encoded data removed]",
      "text/plain": [
       "<Figure size 1000x800 with 2 Axes>"
      ]
     },
     "metadata": {},
     "output_type": "display_data"
    },
    {
     "data": {
      "text/plain": [
       "Habitability_score        1.000000\n",
       "Neighborhood_Review       0.540748\n",
       "Crime_Rate                0.272803\n",
       "Power_Backup              0.241286\n",
       "Dust_and_Noise            0.098129\n",
       "Number_of_Windows         0.096664\n",
       "Number_of_Doors           0.075017\n",
       "Property_Type             0.072896\n",
       "Property_Area             0.066577\n",
       "Air_Quality_Index        -0.041843\n",
       "Traffic_Density_Score    -0.066861\n",
       "Water_Supply             -0.158580\n",
       "Frequency_of_Powercuts   -0.232064\n",
       "Furnishing               -0.422399\n",
       "Name: Habitability_score, dtype: float64"
      ]
     },
     "execution_count": 30,
     "metadata": {},
     "output_type": "execute_result"
    }
   ],
   "source": [
    "import matplotlib.pyplot as plt\n",
    "import seaborn as sns\n",
    "\n",
    "# Drop the 'Id' column and re-calculate the correlation matrix\n",
    "encoded_train_df_no_id = encoded_train_df.drop(columns=['Id'])\n",
    "correlation_matrix_no_id = encoded_train_df_no_id.corr()\n",
    "\n",
    "# Plot the updated correlation matrix\n",
    "plt.figure(figsize=(10, 8))\n",
    "sns.heatmap(correlation_matrix_no_id, annot=True, fmt=\".2f\", cmap=\"coolwarm\", vmin=-1, vmax=1, cbar=True)\n",
    "plt.title(\"Correlation Matrix for Habitability Score and Features (Without Id Column)\")\n",
    "plt.show()\n",
    "\n",
    "# Display the correlations of each feature with Habitability_score again\n",
    "habitability_corr_no_id = correlation_matrix_no_id['Habitability_score'].sort_values(ascending=False)\n",
    "habitability_corr_no_id\n",
    "\n"
   ]
  },
  {
   "cell_type": "code",
   "execution_count": 31,
   "metadata": {},
   "outputs": [
    {
     "data": {
      "text/html": [
       "<div>\n",
       "<style scoped>\n",
       "    .dataframe tbody tr th:only-of-type {\n",
       "        vertical-align: middle;\n",
       "    }\n",
       "\n",
       "    .dataframe tbody tr th {\n",
       "        vertical-align: top;\n",
       "    }\n",
       "\n",
       "    .dataframe thead th {\n",
       "        text-align: right;\n",
       "    }\n",
       "</style>\n",
       "<table border=\"1\" class=\"dataframe\">\n",
       "  <thead>\n",
       "    <tr style=\"text-align: right;\">\n",
       "      <th></th>\n",
       "      <th>Feature</th>\n",
       "      <th>Importance</th>\n",
       "    </tr>\n",
       "  </thead>\n",
       "  <tbody>\n",
       "    <tr>\n",
       "      <th>0</th>\n",
       "      <td>Neighborhood_Review</td>\n",
       "      <td>0.381230</td>\n",
       "    </tr>\n",
       "    <tr>\n",
       "      <th>1</th>\n",
       "      <td>Furnishing</td>\n",
       "      <td>0.256484</td>\n",
       "    </tr>\n",
       "    <tr>\n",
       "      <th>2</th>\n",
       "      <td>Power_Backup</td>\n",
       "      <td>0.120821</td>\n",
       "    </tr>\n",
       "    <tr>\n",
       "      <th>3</th>\n",
       "      <td>Property_Area</td>\n",
       "      <td>0.091241</td>\n",
       "    </tr>\n",
       "    <tr>\n",
       "      <th>4</th>\n",
       "      <td>Traffic_Density_Score</td>\n",
       "      <td>0.040876</td>\n",
       "    </tr>\n",
       "    <tr>\n",
       "      <th>5</th>\n",
       "      <td>Air_Quality_Index</td>\n",
       "      <td>0.030094</td>\n",
       "    </tr>\n",
       "    <tr>\n",
       "      <th>6</th>\n",
       "      <td>Frequency_of_Powercuts</td>\n",
       "      <td>0.023183</td>\n",
       "    </tr>\n",
       "    <tr>\n",
       "      <th>7</th>\n",
       "      <td>Number_of_Windows</td>\n",
       "      <td>0.020213</td>\n",
       "    </tr>\n",
       "    <tr>\n",
       "      <th>8</th>\n",
       "      <td>Number_of_Doors</td>\n",
       "      <td>0.010634</td>\n",
       "    </tr>\n",
       "    <tr>\n",
       "      <th>9</th>\n",
       "      <td>Water_Supply</td>\n",
       "      <td>0.006647</td>\n",
       "    </tr>\n",
       "    <tr>\n",
       "      <th>10</th>\n",
       "      <td>Dust_and_Noise</td>\n",
       "      <td>0.006397</td>\n",
       "    </tr>\n",
       "    <tr>\n",
       "      <th>11</th>\n",
       "      <td>Property_Type</td>\n",
       "      <td>0.006320</td>\n",
       "    </tr>\n",
       "    <tr>\n",
       "      <th>12</th>\n",
       "      <td>Crime_Rate</td>\n",
       "      <td>0.005860</td>\n",
       "    </tr>\n",
       "  </tbody>\n",
       "</table>\n",
       "</div>"
      ],
      "text/plain": [
       "                   Feature  Importance\n",
       "0      Neighborhood_Review    0.381230\n",
       "1               Furnishing    0.256484\n",
       "2             Power_Backup    0.120821\n",
       "3            Property_Area    0.091241\n",
       "4    Traffic_Density_Score    0.040876\n",
       "5        Air_Quality_Index    0.030094\n",
       "6   Frequency_of_Powercuts    0.023183\n",
       "7        Number_of_Windows    0.020213\n",
       "8          Number_of_Doors    0.010634\n",
       "9             Water_Supply    0.006647\n",
       "10          Dust_and_Noise    0.006397\n",
       "11           Property_Type    0.006320\n",
       "12              Crime_Rate    0.005860"
      ]
     },
     "execution_count": 31,
     "metadata": {},
     "output_type": "execute_result"
    }
   ],
   "source": [
    "from sklearn.ensemble import RandomForestRegressor\n",
    "import numpy as np\n",
    "\n",
    "# Define features and target variable\n",
    "X = encoded_train_df_no_id.drop(columns=['Habitability_score'])\n",
    "y = encoded_train_df_no_id['Habitability_score']\n",
    "\n",
    "# Initialize and train a Random Forest Regressor to evaluate feature importance\n",
    "rf_model = RandomForestRegressor(random_state=42)\n",
    "rf_model.fit(X, y)\n",
    "\n",
    "# Get feature importances from the model and sort them\n",
    "feature_importances = rf_model.feature_importances_\n",
    "sorted_indices = np.argsort(feature_importances)[::-1]\n",
    "\n",
    "# Create a DataFrame to display feature names and their importance scores\n",
    "feature_importance_df = pd.DataFrame({\n",
    "    'Feature': X.columns[sorted_indices],\n",
    "    'Importance': feature_importances[sorted_indices]\n",
    "})\n",
    "\n",
    "# Display feature importances\n",
    "feature_importance_df\n"
   ]
  },
  {
   "attachments": {},
   "cell_type": "markdown",
   "metadata": {},
   "source": [
    "The feature importance analysis with a Random Forest Regressor reveals the following key insights:\n",
    "\n",
    "Top Features:\n",
    "\n",
    "Neighborhood_Review (0.38) and Furnishing (0.26) have the highest importance scores, making them significant predictors for the Habitability Score.\n",
    "Power_Backup (0.12) and Property_Area (0.09) also contribute meaningfully.\n",
    "Low Importance Features:\n",
    "\n",
    "Features like Crime_Rate, Property_Type, Dust_and_Noise, and Water_Supply have very low importance scores, suggesting they could be candidates for removal without significantly impacting model performance.\n",
    "Based on this, it may be effective to retain the top features and consider dropping or consolidating the less important ones. Let me know if you'd like assistance in refining the feature set based on this analysis or moving forward with model training"
   ]
  },
  {
   "attachments": {},
   "cell_type": "markdown",
   "metadata": {},
   "source": [
    "## Training the Model "
   ]
  },
  {
   "attachments": {},
   "cell_type": "markdown",
   "metadata": {},
   "source": [
    "### Random Forest Regressor "
   ]
  },
  {
   "cell_type": "code",
   "execution_count": 32,
   "metadata": {},
   "outputs": [
    {
     "data": {
      "text/plain": [
       "(51.21148000810375, 0.7306818779182319)"
      ]
     },
     "execution_count": 32,
     "metadata": {},
     "output_type": "execute_result"
    }
   ],
   "source": [
    "from sklearn.model_selection import train_test_split\n",
    "from sklearn.metrics import mean_squared_error, r2_score\n",
    "\n",
    "# Select top features based on previous analysis\n",
    "top_features = ['Neighborhood_Review', 'Furnishing', 'Power_Backup', 'Property_Area']\n",
    "X_top = encoded_train_df_no_id[top_features]\n",
    "y = encoded_train_df_no_id['Habitability_score']\n",
    "\n",
    "# Split data into training and testing sets\n",
    "X_train, X_test, y_train, y_test = train_test_split(X_top, y, test_size=0.2, random_state=42)\n",
    "\n",
    "# Train the Random Forest Regressor on the top features\n",
    "rf_model_top = RandomForestRegressor(random_state=42)\n",
    "rf_model_top.fit(X_train, y_train)\n",
    "\n",
    "# Predict on test set\n",
    "y_pred = rf_model_top.predict(X_test)\n",
    "\n",
    "# Evaluate model performance\n",
    "mse = mean_squared_error(y_test, y_pred)\n",
    "r2 = r2_score(y_test, y_pred)\n",
    "\n",
    "mse, r2\n"
   ]
  },
  {
   "attachments": {},
   "cell_type": "markdown",
   "metadata": {},
   "source": [
    "### Linear Regression "
   ]
  },
  {
   "cell_type": "code",
   "execution_count": 34,
   "metadata": {},
   "outputs": [
    {
     "data": {
      "text/plain": [
       "(89.99238930283681, 0.5267353865801929)"
      ]
     },
     "execution_count": 34,
     "metadata": {},
     "output_type": "execute_result"
    }
   ],
   "source": [
    "from sklearn.linear_model import LinearRegression\n",
    "\n",
    "# Initialize the Linear Regression model\n",
    "linear_model = LinearRegression()\n",
    "\n",
    "# Train the model on the training set\n",
    "linear_model.fit(X_train, y_train)\n",
    "\n",
    "# Predict on the test set\n",
    "y_pred_linear = linear_model.predict(X_test)\n",
    "\n",
    "# Evaluate the model's performance using MSE and R² Score\n",
    "mse_linear = mean_squared_error(y_test, y_pred_linear)\n",
    "r2_linear = r2_score(y_test, y_pred_linear)\n",
    "\n",
    "mse_linear, r2_linear\n",
    "\n",
    "# Train the Linear Regression model on the training set\n",
    "linear_model.fit(X_train, y_train)\n",
    "\n",
    "# Predict on the test set\n",
    "y_pred_linear = linear_model.predict(X_test)\n",
    "\n",
    "# Evaluate the model's performance\n",
    "mse_linear = mean_squared_error(y_test, y_pred_linear)\n",
    "r2_linear = r2_score(y_test, y_pred_linear)\n",
    "\n",
    "mse_linear, r2_linear\n"
   ]
  },
  {
   "attachments": {},
   "cell_type": "markdown",
   "metadata": {},
   "source": [
    "### Support Vector Regressor Model "
   ]
  },
  {
   "cell_type": "code",
   "execution_count": 35,
   "metadata": {},
   "outputs": [
    {
     "data": {
      "text/plain": [
       "(51.906539749958526, 0.7270266001488461)"
      ]
     },
     "execution_count": 35,
     "metadata": {},
     "output_type": "execute_result"
    }
   ],
   "source": [
    "from sklearn.svm import SVR\n",
    "\n",
    "# Initialize the Support Vector Regressor with default parameters\n",
    "svr_model = SVR()\n",
    "\n",
    "# Train the SVR model on the training set\n",
    "svr_model.fit(X_train, y_train)\n",
    "\n",
    "# Predict on the test set\n",
    "y_pred_svr = svr_model.predict(X_test)\n",
    "\n",
    "# Evaluate the model's performance using MSE and R² Score\n",
    "mse_svr = mean_squared_error(y_test, y_pred_svr)\n",
    "r2_svr = r2_score(y_test, y_pred_svr)\n",
    "\n",
    "mse_svr, r2_svr\n"
   ]
  },
  {
   "attachments": {},
   "cell_type": "markdown",
   "metadata": {},
   "source": [
    "### Gradient Boosting Regressor"
   ]
  },
  {
   "cell_type": "code",
   "execution_count": 36,
   "metadata": {},
   "outputs": [
    {
     "data": {
      "text/plain": [
       "(51.30225885888661, 0.7302044773507477)"
      ]
     },
     "execution_count": 36,
     "metadata": {},
     "output_type": "execute_result"
    }
   ],
   "source": [
    "from sklearn.ensemble import GradientBoostingRegressor\n",
    "\n",
    "# Initialize the Gradient Boosting Regressor with default parameters\n",
    "gbr_model = GradientBoostingRegressor(random_state=42)\n",
    "\n",
    "# Train the Gradient Boosting Regressor on the training set\n",
    "gbr_model.fit(X_train, y_train)\n",
    "\n",
    "# Predict on the test set\n",
    "y_pred_gbr = gbr_model.predict(X_test)\n",
    "\n",
    "# Evaluate the model's performance using MSE and R² Score\n",
    "mse_gbr = mean_squared_error(y_test, y_pred_gbr)\n",
    "r2_gbr = r2_score(y_test, y_pred_gbr)\n",
    "\n",
    "mse_gbr, r2_gbr\n"
   ]
  },
  {
   "attachments": {},
   "cell_type": "markdown",
   "metadata": {},
   "source": [
    "### KNN"
   ]
  },
  {
   "cell_type": "code",
   "execution_count": 37,
   "metadata": {},
   "outputs": [
    {
     "data": {
      "text/plain": [
       "(49.23738221329114, 0.7410635406005165)"
      ]
     },
     "execution_count": 37,
     "metadata": {},
     "output_type": "execute_result"
    }
   ],
   "source": [
    "from sklearn.neighbors import KNeighborsRegressor\n",
    "\n",
    "# Initialize the K-Nearest Neighbors Regressor with a default value of 5 neighbors\n",
    "knn_model = KNeighborsRegressor(n_neighbors=5)\n",
    "\n",
    "# Train the KNN Regressor on the training set\n",
    "knn_model.fit(X_train, y_train)\n",
    "\n",
    "# Predict on the test set\n",
    "y_pred_knn = knn_model.predict(X_test)\n",
    "\n",
    "# Evaluate the model's performance using MSE and R² Score\n",
    "mse_knn = mean_squared_error(y_test, y_pred_knn)\n",
    "r2_knn = r2_score(y_test, y_pred_knn)\n",
    "\n",
    "mse_knn, r2_knn\n"
   ]
  },
  {
   "cell_type": "code",
   "execution_count": 38,
   "metadata": {},
   "outputs": [
    {
     "name": "stdout",
     "output_type": "stream",
     "text": [
      "[Errno 2] No such file or directory: '/path/to/habita-wise'\n",
      "/Users/sana/Documents/GitHub/habita-wise\n"
     ]
    },
    {
     "name": "stderr",
     "output_type": "stream",
     "text": [
      "/Library/Frameworks/Python.framework/Versions/3.11/lib/python3.11/site-packages/IPython/core/magics/osm.py:393: UserWarning: using bookmarks requires you to install the `pickleshare` library.\n",
      "  bkms = self.shell.db.get('bookmarks', {})\n"
     ]
    }
   ],
   "source": [
    "cd /path/to/habita-wise"
   ]
  }
 ],
 "metadata": {
  "kernelspec": {
   "display_name": "Python 3",
   "language": "python",
   "name": "python3"
  },
  "language_info": {
   "codemirror_mode": {
    "name": "ipython",
    "version": 3
   },
   "file_extension": ".py",
   "mimetype": "text/x-python",
   "name": "python",
   "nbconvert_exporter": "python",
   "pygments_lexer": "ipython3",
   "version": "3.10.6"
  },
  "orig_nbformat": 4
 },
 "nbformat": 4,
 "nbformat_minor": 2
}
